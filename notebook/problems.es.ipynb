{
 "cells": [
  {
   "cell_type": "markdown",
   "id": "d9d036c6",
   "metadata": {},
   "source": [
    "# Problemas de prueba de hipótesis"
   ]
  },
  {
   "cell_type": "markdown",
   "id": "d157c4db",
   "metadata": {},
   "source": [
    "## Ejercicio 1\n",
    "\n",
    "Usted es un nutricionista que investiga dos tipos diferentes de dietas para ver si existe una diferencia significativa en la pérdida de peso después de un mes. Eliges dos grupos aleatorios de personas; un grupo sigue la primera dieta y el otro sigue la segunda. Al final del mes, se registra la pérdida de peso (en kg) de cada persona:\n",
    "\n",
    "| Diet 1 | Diet 2 |\n",
    "|:-------|:-------|\n",
    "| 2.0 | 3.0 |\n",
    "| 2.5 | 3.2 |\n",
    "| 3.0 | 3.1 |\n",
    "| 2.8 | 2.9 |\n",
    "| 2.3 | 2.8 |\n",
    "| 2.7 | 3.0 |\n",
    "| 2.5 | 3.2 |\n",
    "\n",
    "Con estos datos se busca responder a la siguiente pregunta: ¿Existe una diferencia significativa en la pérdida de peso promedio entre las personas que siguieron la primera dieta y las que siguieron la segunda dieta?\n",
    "\n",
    "Para sacar conclusiones, siga los siguientes puntos:\n",
    "\n",
    "-Enunciar la hipótesis: hipótesis nula y alternativa.\n",
    "-Realizar la prueba para comprobar la hipótesis. Puede utilizar la prueba t de Student.\n",
    "-Analizar las conclusiones."
   ]
  },
  {
   "cell_type": "code",
   "execution_count": null,
   "id": "8e0f3cf0",
   "metadata": {},
   "outputs": [
    {
     "name": "stdout",
     "output_type": "stream",
     "text": [
      "Valor t: -3.5383\n",
      "\n",
      "P-valor: 0.0041\n",
      "\n",
      "Se acepta la hipotésis alternativa, la diferencia en la pérdida de peso es notable.\n"
     ]
    }
   ],
   "source": [
    "# - Tipo de contraste: Desigualdad\n",
    "\n",
    "# - Hipotesis Nula: No existe una diferencia de pérdida de peso significativa después de un mes.\n",
    "\n",
    "# - Hipótesis Alternativa: Sí existe una diferencia de pérdida de peso significativa después de un mes.\n",
    "\n",
    "# - Importación de librerías:\n",
    "\n",
    "import numpy as np\n",
    "import scipy.stats as stats\n",
    "\n",
    "# - Datos de la muestra:\n",
    "\n",
    "sDiet1 = np.array([2.0, 2.5, 3.0, 2.8, 2.3, 2.7, 2.5])\n",
    "pDiet2 = np.array([3.0, 3.2, 3.1, 2.9, 2.8, 3.0, 3.2])\n",
    "\n",
    "# - Parámetros:\n",
    "\n",
    "alpha = 0.05\n",
    "\n",
    "# - Cálculos:\n",
    "\n",
    "t_value, p_value = stats.ttest_ind(sDiet1, pDiet2)\n",
    "\n",
    "# - Imprenta de resultados:\n",
    "\n",
    "print(f\"Valor t: {round(t_value, 4)}\")\n",
    "print()\n",
    "print(f\"P-valor: {round(p_value, 4)}\")\n",
    "print()\n",
    "if p_value < alpha:\n",
    "    print(\"Se acepta la hipotésis alternativa, la diferencia en la pérdida de peso es notable.\")\n",
    "else:\n",
    "    print(\"Se reafirma la hipotésis nula, la diferencia en la pérdida de peso no es notable.\")"
   ]
  },
  {
   "cell_type": "markdown",
   "id": "f432e18e",
   "metadata": {},
   "source": [
    "## ANOVA\n",
    "\n",
    "**ANOVA** (*Analysis of Variance - Análisis de variación*) Es una técnica estadística utilizada para comparar las medidas de dos o más grupos. La idea detrás de ANOVA es descomponer la variabilidad total de los datos en dos componentes: variabilidad entre grupos y variabilidad dentro de los grupos:\n",
    "\n",
    "- **Variabilidad entre grupos**: Esta variabilidad se refiere a las diferencias entre las medias del grupo. Si esta variabilidad es considerablemente mayor que la variabilidad dentro del grupo, podría ser una indicación de que al menos una de las medias del grupo es diferente.\n",
    "- **Variabilidad dentro del grupo**: Esta variabilidad se refiere a la dispersión de los datos dentro de cada grupo. Si todos los grupos tienen una variabilidad similar, entonces cualquier diferencia notable en las medias de los grupos podría considerarse significativa.\n",
    "\n",
    "Las hipótesis en ANOVA suelen incluir:\n",
    "\n",
    "- **Hipótesis nula** ($H₀$): Las medias de todos los grupos son iguales.\n",
    "- **Hipótesis alternativa** ($H₁$): Al menos una de las medias del grupo es diferente.\n",
    "\n",
    "Si el resultado de la prueba ANOVA es significativo (por ejemplo, un valor p inferior a un umbral como 0,05), esto sugiere que al menos la media de un grupo es diferente."
   ]
  },
  {
   "cell_type": "markdown",
   "id": "fc5f3721",
   "metadata": {},
   "source": [
    "## Ejercicio 2\n",
    "\n",
    "Un agricultor decide probar tres tipos diferentes de fertilizantes para determinar si alguno es superior en términos de producción de maíz. El agricultor planta maíz en 15 parcelas idénticas y utiliza los tres fertilizantes (5 parcelas para cada tipo). Al final de la temporada mide el rendimiento de maíz (en kg) de cada parcela, con el siguiente resultado:\n",
    "\n",
    "| Fertilizante 1 | Fertilizante 2 | Fertilizante 3 |\n",
    "|:-------------|:-------------|:-------------|\n",
    "| 20 | 22 | 24 |\n",
    "| 21 | 21 | 23 |\n",
    "| 20 | 23 | 22 |\n",
    "| 19 | 22 | 23 |\n",
    "| 20 | 21 | 24 |\n",
    "\n",
    "Con estos datos busca responder la siguiente pregunta: ¿Existe una diferencia significativa en el rendimiento promedio del maíz entre los tres tipos de fertilizantes?\n",
    "\n",
    "Para ayudarte, sigue los siguientes puntos:\n",
    "\n",
    "-Enunciar la hipótesis: hipótesis nula y alternativa.\n",
    "-Realizar la prueba ANOVA.\n",
    "-Analizar las conclusiones.\n",
    "-Si un fertilizante es mejor que otro, ¿cómo podemos saberlo?"
   ]
  },
  {
   "cell_type": "code",
   "execution_count": 13,
   "id": "eecad0ca",
   "metadata": {},
   "outputs": [
    {
     "name": "stdout",
     "output_type": "stream",
     "text": [
      "F-value: 20.3158\n",
      "\n",
      "P-valor: 0.0001\n",
      "\n",
      "Se acepta la hipotésis alternativa, la diferencia en el crecimiento del maíz es notable.\n",
      "\n",
      "Multiple Comparison of Means - Tukey HSD, FWER=0.05\n",
      "==================================================\n",
      "group1 group2 meandiff p-adj  lower  upper  reject\n",
      "--------------------------------------------------\n",
      "    F1     F2      1.8 0.0099 0.4572 3.1428   True\n",
      "    F1     F3      3.2 0.0001 1.8572 4.5428   True\n",
      "    F2     F3      1.4 0.0409 0.0572 2.7428   True\n",
      "--------------------------------------------------\n"
     ]
    }
   ],
   "source": [
    "# - Tipo de contraste: Desigualdad\n",
    "\n",
    "# - Hipotesis Nula: No existe una diferencia notable en el crecimiento del maíz acelerado por el uso de fertilizantes.\n",
    "\n",
    "# - Hipótesis Alternativa: Sí existe una diferencia notable en el crecimiento del maíz acelerado por el uso de fertilizantes.\n",
    "\n",
    "# - Importación de librerías:\n",
    "\n",
    "from statsmodels.stats.multicomp import pairwise_tukeyhsd\n",
    "\n",
    "# - Datos de la muestra:\n",
    "\n",
    "fert1 = [20, 21, 20, 19, 20]\n",
    "fert2 = [22, 21, 23, 22, 21]\n",
    "fert3 = [24, 23, 22, 23, 24]\n",
    "\n",
    "# - Parámetros:\n",
    "\n",
    "alpha = 0.05\n",
    "\n",
    "# - Prueba ANOVA:\n",
    "\n",
    "f_value, p_value = stats.f_oneway(fert1, fert2, fert3)\n",
    "\n",
    "# - Imprenta de resultados de ANOVA:\n",
    "\n",
    "print(f\"F-value: {round(f_value, 4)}\")\n",
    "print()\n",
    "print(f\"P-valor: {round(p_value, 4)}\")\n",
    "print()\n",
    "if p_value < alpha:\n",
    "    print(\"Se acepta la hipotésis alternativa, la diferencia en el crecimiento del maíz es notable.\")\n",
    "else:\n",
    "    print(\"Se reafirma la hipotésis nula, la diferencia en el crecimiento del maíz no es notable.\")\n",
    "print()\n",
    "\n",
    "# - Preparación de datos para comparaciones múltiples:\n",
    "\n",
    "data = np.concatenate([fert1, fert2, fert3])\n",
    "labels = [\"F1\"] * 5 + [\"F2\"] * 5 + [\"F3\"] * 5\n",
    "\n",
    "# - Prueba de Tukey:\n",
    "\n",
    "result = pairwise_tukeyhsd(data, labels, alpha=0.05)\n",
    "\n",
    "# - Imprenta de resultados de la prueba de Tukey:\n",
    "\n",
    "print(result)\n"
   ]
  }
 ],
 "metadata": {
  "kernelspec": {
   "display_name": "Python 3",
   "language": "python",
   "name": "python3"
  },
  "language_info": {
   "codemirror_mode": {
    "name": "ipython",
    "version": 3
   },
   "file_extension": ".py",
   "mimetype": "text/x-python",
   "name": "python",
   "nbconvert_exporter": "python",
   "pygments_lexer": "ipython3",
   "version": "3.13.1"
  }
 },
 "nbformat": 4,
 "nbformat_minor": 5
}
